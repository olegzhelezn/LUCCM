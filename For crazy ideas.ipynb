{
 "cells": [
  {
   "cell_type": "code",
   "execution_count": 16,
   "metadata": {},
   "outputs": [],
   "source": [
    "# импортируем программные библиотеки, которые помогут нам работать со спутниковыми данными\n",
    "\n",
    "# Основное средство - GDAL. Основной компонент работы с растровыми геоданными, который вообще везде\n",
    "from osgeo import gdal\n",
    "\n",
    "# matplotlib - самая большая и мощная библиотека визуализации данных в Python\n",
    "import matplotlib.pyplot as plt\n",
    "import matplotlib as mpl\n",
    "\n",
    "# numpy - одна из главных математических библиотек Python. Быстрые вычисления матриц (а снимки - это матрицы)\n",
    "import numpy as np\n",
    "\n",
    "# Некоторые служебные команды. Так мы сможем смотреть на изображения прямо в jupyter notebook\n",
    "from IPython.display import Image\n",
    "\n",
    "# Настроим размер картинок, которые будет показывать jupyter notebook\n",
    "mpl.rcParams['figure.figsize'] = (10,10)"
   ]
  },
  {
   "cell_type": "code",
   "execution_count": 17,
   "metadata": {},
   "outputs": [],
   "source": [
    "dataset = gdal.Open('Probability/lu1860_R.asc')\n",
    "dataset0 = gdal.Open('C:/Users/olegz/Desktop/CLUE/Lesunovo PROJECT/Predicted/Predicted1860.asc')\n",
    "Real1860=dataset.ReadAsArray()\n",
    "Predicted1860=dataset0.ReadAsArray()"
   ]
  },
  {
   "cell_type": "code",
   "execution_count": 21,
   "metadata": {},
   "outputs": [
    {
     "name": "stdout",
     "output_type": "stream",
     "text": [
      "0.8107303494831064\n"
     ]
    }
   ],
   "source": [
    "#Расчёт точности размещения\n",
    "count=0\n",
    "All=0\n",
    "for i in range(0, 800):\n",
    "    for j in range(0, 736):\n",
    "        if Real1860[i][j]!=-99999:\n",
    "            if Real1860[i][j]==0 or Predicted1860[i][j]==0:\n",
    "                All+=1\n",
    "                Change=Real1860[i][j]-Predicted1860[i][j]\n",
    "                if Change==0:\n",
    "                    count+=1\n",
    "#однако у нас в All неправильно размещенные пиксели попали два раза (из-за или-или). Надо поэтому их вычесть из подсчёта\n",
    "All_corrected=(All-count)/2+count\n",
    "Precision=count/All_corrected\n",
    "print (Precision)"
   ]
  },
  {
   "cell_type": "code",
   "execution_count": 22,
   "metadata": {},
   "outputs": [
    {
     "name": "stdout",
     "output_type": "stream",
     "text": [
      "0.7575281113016962\n"
     ]
    }
   ],
   "source": [
    "#теперь общая точность (доля верно размещённых пикселей)\n",
    "count=0\n",
    "All=0\n",
    "for i in range(0, 800):\n",
    "    for j in range(0, 736):\n",
    "        if Real1860[i][j]!=-99999:\n",
    "            All+=1\n",
    "            Change=Real1860[i][j]-Predicted1860[i][j]\n",
    "            if Change==0:\n",
    "                    count+=1\n",
    "Precision=count/All\n",
    "print (Precision)"
   ]
  }
 ],
 "metadata": {
  "kernelspec": {
   "display_name": "Python 3",
   "language": "python",
   "name": "python3"
  },
  "language_info": {
   "codemirror_mode": {
    "name": "ipython",
    "version": 3
   },
   "file_extension": ".py",
   "mimetype": "text/x-python",
   "name": "python",
   "nbconvert_exporter": "python",
   "pygments_lexer": "ipython3",
   "version": "3.6.4"
  }
 },
 "nbformat": 4,
 "nbformat_minor": 2
}
